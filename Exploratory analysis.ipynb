{
 "cells": [
  {
   "cell_type": "code",
   "execution_count": 93,
   "metadata": {},
   "outputs": [],
   "source": [
    "import pandas as pd\n",
    "import numpy as np\n",
    "import seaborn as sns\n",
    "import matplotlib.pyplot as mpb\n",
    "import re \n",
    "\n",
    "from collections import  Counter\n",
    "from textblob import TextBlob,Word\n"
   ]
  },
  {
   "cell_type": "code",
   "execution_count": 52,
   "metadata": {},
   "outputs": [
    {
     "data": {
      "text/html": [
       "<div>\n",
       "<style scoped>\n",
       "    .dataframe tbody tr th:only-of-type {\n",
       "        vertical-align: middle;\n",
       "    }\n",
       "\n",
       "    .dataframe tbody tr th {\n",
       "        vertical-align: top;\n",
       "    }\n",
       "\n",
       "    .dataframe thead th {\n",
       "        text-align: right;\n",
       "    }\n",
       "</style>\n",
       "<table border=\"1\" class=\"dataframe\">\n",
       "  <thead>\n",
       "    <tr style=\"text-align: right;\">\n",
       "      <th></th>\n",
       "      <th>date</th>\n",
       "      <th>username</th>\n",
       "      <th>tweet</th>\n",
       "      <th>Emotion</th>\n",
       "      <th>mentions</th>\n",
       "      <th>replies_count</th>\n",
       "      <th>retweets_count</th>\n",
       "      <th>likes_count</th>\n",
       "      <th>link</th>\n",
       "      <th>reply_to</th>\n",
       "    </tr>\n",
       "  </thead>\n",
       "  <tbody>\n",
       "    <tr>\n",
       "      <th>0</th>\n",
       "      <td>2021/4/8 0:59</td>\n",
       "      <td>dholuod</td>\n",
       "      <td>@WanjiraLeah @NationBreaking 1.   LIGHTHOUSE  ...</td>\n",
       "      <td>Netural</td>\n",
       "      <td>[]</td>\n",
       "      <td>0</td>\n",
       "      <td>0</td>\n",
       "      <td>0</td>\n",
       "      <td>https://twitter.com/DholuoD/status/13799470809...</td>\n",
       "      <td>[{'screen_name': 'WanjiraLeah', 'name': 'leah ...</td>\n",
       "    </tr>\n",
       "    <tr>\n",
       "      <th>1</th>\n",
       "      <td>2021/4/8 0:59</td>\n",
       "      <td>johnndavis</td>\n",
       "      <td>20210407: Sharon Kirkey: ¡®First-dose-first¡¯:...</td>\n",
       "      <td>Netural</td>\n",
       "      <td>[]</td>\n",
       "      <td>0</td>\n",
       "      <td>0</td>\n",
       "      <td>0</td>\n",
       "      <td>https://twitter.com/johnndavis/status/13799470...</td>\n",
       "      <td>[]</td>\n",
       "    </tr>\n",
       "    <tr>\n",
       "      <th>2</th>\n",
       "      <td>2021/4/8 0:59</td>\n",
       "      <td>msnashville</td>\n",
       "      <td>Experts Explain What Happens If You Skip Your ...</td>\n",
       "      <td>Netural</td>\n",
       "      <td>[]</td>\n",
       "      <td>0</td>\n",
       "      <td>0</td>\n",
       "      <td>0</td>\n",
       "      <td>https://twitter.com/MsNashville/status/1379947...</td>\n",
       "      <td>[]</td>\n",
       "    </tr>\n",
       "    <tr>\n",
       "      <th>3</th>\n",
       "      <td>2021/4/8 0:59</td>\n",
       "      <td>samhealth</td>\n",
       "      <td>There are three COVID-19 vaccines available, a...</td>\n",
       "      <td>Netural</td>\n",
       "      <td>[]</td>\n",
       "      <td>0</td>\n",
       "      <td>0</td>\n",
       "      <td>1</td>\n",
       "      <td>https://twitter.com/SamHealth/status/137994699...</td>\n",
       "      <td>[]</td>\n",
       "    </tr>\n",
       "    <tr>\n",
       "      <th>4</th>\n",
       "      <td>2021/4/8 0:59</td>\n",
       "      <td>benreidy_3</td>\n",
       "      <td>I¡¯d rather contract COVID-19 than get the vac...</td>\n",
       "      <td>Netural</td>\n",
       "      <td>[]</td>\n",
       "      <td>0</td>\n",
       "      <td>0</td>\n",
       "      <td>7</td>\n",
       "      <td>https://twitter.com/benreidy_3/status/13799469...</td>\n",
       "      <td>[]</td>\n",
       "    </tr>\n",
       "  </tbody>\n",
       "</table>\n",
       "</div>"
      ],
      "text/plain": [
       "            date     username  \\\n",
       "0  2021/4/8 0:59      dholuod   \n",
       "1  2021/4/8 0:59   johnndavis   \n",
       "2  2021/4/8 0:59  msnashville   \n",
       "3  2021/4/8 0:59    samhealth   \n",
       "4  2021/4/8 0:59   benreidy_3   \n",
       "\n",
       "                                               tweet  Emotion mentions  \\\n",
       "0  @WanjiraLeah @NationBreaking 1.   LIGHTHOUSE  ...  Netural       []   \n",
       "1  20210407: Sharon Kirkey: ¡®First-dose-first¡¯:...  Netural       []   \n",
       "2  Experts Explain What Happens If You Skip Your ...  Netural       []   \n",
       "3  There are three COVID-19 vaccines available, a...  Netural       []   \n",
       "4  I¡¯d rather contract COVID-19 than get the vac...  Netural       []   \n",
       "\n",
       "   replies_count  retweets_count  likes_count  \\\n",
       "0              0               0            0   \n",
       "1              0               0            0   \n",
       "2              0               0            0   \n",
       "3              0               0            1   \n",
       "4              0               0            7   \n",
       "\n",
       "                                                link  \\\n",
       "0  https://twitter.com/DholuoD/status/13799470809...   \n",
       "1  https://twitter.com/johnndavis/status/13799470...   \n",
       "2  https://twitter.com/MsNashville/status/1379947...   \n",
       "3  https://twitter.com/SamHealth/status/137994699...   \n",
       "4  https://twitter.com/benreidy_3/status/13799469...   \n",
       "\n",
       "                                            reply_to  \n",
       "0  [{'screen_name': 'WanjiraLeah', 'name': 'leah ...  \n",
       "1                                                 []  \n",
       "2                                                 []  \n",
       "3                                                 []  \n",
       "4                                                 []  "
      ]
     },
     "execution_count": 52,
     "metadata": {},
     "output_type": "execute_result"
    }
   ],
   "source": [
    "covid_19 = pd.read_csv('vaccine_original.csv', encoding = \"ISO-8859-1\")\n",
    "covid_19.head()"
   ]
  },
  {
   "cell_type": "code",
   "execution_count": 53,
   "metadata": {},
   "outputs": [
    {
     "name": "stdout",
     "output_type": "stream",
     "text": [
      "<class 'pandas.core.frame.DataFrame'>\n",
      "RangeIndex: 91709 entries, 0 to 91708\n",
      "Data columns (total 10 columns):\n",
      " #   Column          Non-Null Count  Dtype \n",
      "---  ------          --------------  ----- \n",
      " 0   date            91709 non-null  object\n",
      " 1   username        91708 non-null  object\n",
      " 2   tweet           91709 non-null  object\n",
      " 3   Emotion         91709 non-null  object\n",
      " 4   mentions        91709 non-null  object\n",
      " 5   replies_count   91709 non-null  int64 \n",
      " 6   retweets_count  91709 non-null  int64 \n",
      " 7   likes_count     91709 non-null  int64 \n",
      " 8   link            91709 non-null  object\n",
      " 9   reply_to        91709 non-null  object\n",
      "dtypes: int64(3), object(7)\n",
      "memory usage: 7.0+ MB\n"
     ]
    }
   ],
   "source": [
    "covid_19.info()"
   ]
  },
  {
   "cell_type": "code",
   "execution_count": 54,
   "metadata": {},
   "outputs": [
    {
     "data": {
      "text/html": [
       "<div>\n",
       "<style scoped>\n",
       "    .dataframe tbody tr th:only-of-type {\n",
       "        vertical-align: middle;\n",
       "    }\n",
       "\n",
       "    .dataframe tbody tr th {\n",
       "        vertical-align: top;\n",
       "    }\n",
       "\n",
       "    .dataframe thead th {\n",
       "        text-align: right;\n",
       "    }\n",
       "</style>\n",
       "<table border=\"1\" class=\"dataframe\">\n",
       "  <thead>\n",
       "    <tr style=\"text-align: right;\">\n",
       "      <th></th>\n",
       "      <th>replies_count</th>\n",
       "      <th>retweets_count</th>\n",
       "      <th>likes_count</th>\n",
       "    </tr>\n",
       "  </thead>\n",
       "  <tbody>\n",
       "    <tr>\n",
       "      <th>count</th>\n",
       "      <td>91709.000000</td>\n",
       "      <td>91709.000000</td>\n",
       "      <td>91709.000000</td>\n",
       "    </tr>\n",
       "    <tr>\n",
       "      <th>mean</th>\n",
       "      <td>1.311420</td>\n",
       "      <td>3.393854</td>\n",
       "      <td>14.404246</td>\n",
       "    </tr>\n",
       "    <tr>\n",
       "      <th>std</th>\n",
       "      <td>27.404961</td>\n",
       "      <td>75.937424</td>\n",
       "      <td>441.056155</td>\n",
       "    </tr>\n",
       "    <tr>\n",
       "      <th>min</th>\n",
       "      <td>0.000000</td>\n",
       "      <td>0.000000</td>\n",
       "      <td>0.000000</td>\n",
       "    </tr>\n",
       "    <tr>\n",
       "      <th>25%</th>\n",
       "      <td>0.000000</td>\n",
       "      <td>0.000000</td>\n",
       "      <td>0.000000</td>\n",
       "    </tr>\n",
       "    <tr>\n",
       "      <th>50%</th>\n",
       "      <td>0.000000</td>\n",
       "      <td>0.000000</td>\n",
       "      <td>0.000000</td>\n",
       "    </tr>\n",
       "    <tr>\n",
       "      <th>75%</th>\n",
       "      <td>0.000000</td>\n",
       "      <td>1.000000</td>\n",
       "      <td>2.000000</td>\n",
       "    </tr>\n",
       "    <tr>\n",
       "      <th>max</th>\n",
       "      <td>6501.000000</td>\n",
       "      <td>16487.000000</td>\n",
       "      <td>91869.000000</td>\n",
       "    </tr>\n",
       "  </tbody>\n",
       "</table>\n",
       "</div>"
      ],
      "text/plain": [
       "       replies_count  retweets_count   likes_count\n",
       "count   91709.000000    91709.000000  91709.000000\n",
       "mean        1.311420        3.393854     14.404246\n",
       "std        27.404961       75.937424    441.056155\n",
       "min         0.000000        0.000000      0.000000\n",
       "25%         0.000000        0.000000      0.000000\n",
       "50%         0.000000        0.000000      0.000000\n",
       "75%         0.000000        1.000000      2.000000\n",
       "max      6501.000000    16487.000000  91869.000000"
      ]
     },
     "execution_count": 54,
     "metadata": {},
     "output_type": "execute_result"
    }
   ],
   "source": [
    "covid_19.describe()\n",
    "\n",
    "## Here we an first information that shows that the mean of replies and retweets made are smaller than likes (which is understandable). "
   ]
  },
  {
   "cell_type": "code",
   "execution_count": 55,
   "metadata": {},
   "outputs": [
    {
     "data": {
      "text/html": [
       "<div>\n",
       "<style scoped>\n",
       "    .dataframe tbody tr th:only-of-type {\n",
       "        vertical-align: middle;\n",
       "    }\n",
       "\n",
       "    .dataframe tbody tr th {\n",
       "        vertical-align: top;\n",
       "    }\n",
       "\n",
       "    .dataframe thead th {\n",
       "        text-align: right;\n",
       "    }\n",
       "</style>\n",
       "<table border=\"1\" class=\"dataframe\">\n",
       "  <thead>\n",
       "    <tr style=\"text-align: right;\">\n",
       "      <th></th>\n",
       "      <th>date</th>\n",
       "      <th>username</th>\n",
       "      <th>tweet</th>\n",
       "      <th>Emotion</th>\n",
       "      <th>mentions</th>\n",
       "      <th>replies_count</th>\n",
       "      <th>retweets_count</th>\n",
       "      <th>likes_count</th>\n",
       "      <th>link</th>\n",
       "      <th>reply_to</th>\n",
       "    </tr>\n",
       "  </thead>\n",
       "  <tbody>\n",
       "    <tr>\n",
       "      <th>64837</th>\n",
       "      <td>2021/4/2 18:07</td>\n",
       "      <td>govrondesantis</td>\n",
       "      <td>Today I issued an executive order prohibiting ...</td>\n",
       "      <td>Netural</td>\n",
       "      <td>[]</td>\n",
       "      <td>6501</td>\n",
       "      <td>16487</td>\n",
       "      <td>91869</td>\n",
       "      <td>https://twitter.com/GovRonDeSantis/status/1378...</td>\n",
       "      <td>[]</td>\n",
       "    </tr>\n",
       "  </tbody>\n",
       "</table>\n",
       "</div>"
      ],
      "text/plain": [
       "                 date        username  \\\n",
       "64837  2021/4/2 18:07  govrondesantis   \n",
       "\n",
       "                                                   tweet  Emotion mentions  \\\n",
       "64837  Today I issued an executive order prohibiting ...  Netural       []   \n",
       "\n",
       "       replies_count  retweets_count  likes_count  \\\n",
       "64837           6501           16487        91869   \n",
       "\n",
       "                                                    link reply_to  \n",
       "64837  https://twitter.com/GovRonDeSantis/status/1378...       []  "
      ]
     },
     "execution_count": 55,
     "metadata": {},
     "output_type": "execute_result"
    }
   ],
   "source": [
    "## Lets see check the tweet with 6501 replies.\n",
    "\n",
    "covid_19[covid_19['replies_count']==6501]\n",
    "\n",
    "## It appears that the tweet with most replies is also the tweet carrying the most retweets and likes. "
   ]
  },
  {
   "cell_type": "code",
   "execution_count": 56,
   "metadata": {},
   "outputs": [
    {
     "data": {
      "text/plain": [
       "array(['@WanjiraLeah @NationBreaking 1.   LIGHTHOUSE  What exactly do you mean?  To \"investigate\" does not mean that Tanzania\\'s President admits that there is COVID-19 or that if it exists then vaccines should be used instead of ALTERNATIVE CURES.  Do not underestimate Madame Hassan\\'s wisdom.  She is a wise woman.',\n",
       "       '20210407: Sharon Kirkey: ¡®First-dose-first¡¯: Panel reassures Canadians 16 weeks between COVID-19 vaccine shots is safe [\"Critics say the strategy is a risky, population-level experiment in Canada\"',\n",
       "       'Experts Explain What Happens If You Skip Your Second COVID-19 Vaccine  https://t.co/GP3oacpSoR',\n",
       "       ...,\n",
       "       \"Pennsylvania is opening up COVID-19 vaccine eligibility to all adults, but Philadelphia won't be included because it has its own vaccine plans  https://t.co/OSihVvMSWN\",\n",
       "       \"A batch of Johnson &amp; Johnson's COVID-19 vaccine failed quality standards and can't be used, the drug giant said, without specifying how many doses were lost. It wasn't clear how the problem would impact future deliveries.  https://t.co/NO6MgG3h9K\",\n",
       "       'COVID-19 Vaccines Vs. New Coronavirus Variants?  https://t.co/qJi4RUjhpR #covid #coronavirus #covidvaccine #newyorkurgentcare #queens #longisland #bronx #brooklyn #manhattan #hicksville #statcare #walkinclinic #covidclinic #covidvaccine #vaccine #covidtesting #covidvariants #cdc  https://t.co/pIIbaykiUQ'],\n",
       "      dtype=object)"
      ]
     },
     "execution_count": 56,
     "metadata": {},
     "output_type": "execute_result"
    }
   ],
   "source": [
    "covid_19['tweet'].unique()"
   ]
  },
  {
   "cell_type": "code",
   "execution_count": 57,
   "metadata": {},
   "outputs": [
    {
     "data": {
      "text/plain": [
       "180.28209881254838"
      ]
     },
     "execution_count": 57,
     "metadata": {},
     "output_type": "execute_result"
    }
   ],
   "source": [
    "## Lets dive deep into the tweets of this dataset.\n",
    "\n",
    "#covid_19['tweet'].str.len()\n",
    "\n",
    "covid_19['tweet'].str.len().mean()\n",
    "\n",
    "## The mean of characters of each tweet is 180. "
   ]
  },
  {
   "cell_type": "code",
   "execution_count": 58,
   "metadata": {},
   "outputs": [
    {
     "data": {
      "text/plain": [
       "<AxesSubplot:>"
      ]
     },
     "execution_count": 58,
     "metadata": {},
     "output_type": "execute_result"
    },
    {
     "data": {
      "image/png": "[encoded data removed]",
      "text/plain": [
       "<Figure size 432x288 with 1 Axes>"
      ]
     },
     "metadata": {
      "needs_background": "light"
     },
     "output_type": "display_data"
    }
   ],
   "source": [
    "covid_19['tweet'].str.len().hist()\n",
    "\n",
    "## The chart confirms the finding that the majority of tweets are around the 180 character range."
   ]
  },
  {
   "cell_type": "code",
   "execution_count": 59,
   "metadata": {},
   "outputs": [
    {
     "data": {
      "text/plain": [
       "25.316904556804676"
      ]
     },
     "execution_count": 59,
     "metadata": {},
     "output_type": "execute_result"
    }
   ],
   "source": [
    "## Lets now see how many words each tweet has.\n",
    "\n",
    "#covid_19['tweet'].str.split().map(lambda x: len(x))\n",
    "\n",
    "covid_19['tweet'].str.split().map(lambda x: len(x)).mean()\n",
    "\n",
    "## 25 words are the mean of all tweets."
   ]
  },
  {
   "cell_type": "code",
   "execution_count": 60,
   "metadata": {},
   "outputs": [
    {
     "data": {
      "text/plain": [
       "<AxesSubplot:>"
      ]
     },
     "execution_count": 60,
     "metadata": {},
     "output_type": "execute_result"
    },
    {
     "data": {
      "image/png": "[encoded data removed]",
      "text/plain": [
       "<Figure size 432x288 with 1 Axes>"
      ]
     },
     "metadata": {
      "needs_background": "light"
     },
     "output_type": "display_data"
    }
   ],
   "source": [
    "covid_19['tweet'].str.split().map(lambda x: len(x)).hist()"
   ]
  },
  {
   "cell_type": "code",
   "execution_count": 61,
   "metadata": {},
   "outputs": [
    {
     "data": {
      "text/plain": [
       "<AxesSubplot:>"
      ]
     },
     "execution_count": 61,
     "metadata": {},
     "output_type": "execute_result"
    },
    {
     "data": {
      "image/png": "[encoded data removed]",
      "text/plain": [
       "<Figure size 432x288 with 1 Axes>"
      ]
     },
     "metadata": {
      "needs_background": "light"
     },
     "output_type": "display_data"
    }
   ],
   "source": [
    "## Qual o tamanho medio de palavras de cada tweet.\n",
    "\n",
    "covid_19['tweet'].str.split().\\\n",
    "   apply(lambda x : [len(i) for i in x]). \\\n",
    "   map(lambda x: np.mean(x)).hist()\n"
   ]
  },
  {
   "cell_type": "code",
   "execution_count": 62,
   "metadata": {},
   "outputs": [
    {
     "name": "stderr",
     "output_type": "stream",
     "text": [
      "[nltk_data] Downloading package stopwords to\n",
      "[nltk_data]     C:\\Users\\Magalhaes\\AppData\\Roaming\\nltk_data...\n",
      "[nltk_data]   Package stopwords is already up-to-date!\n"
     ]
    }
   ],
   "source": [
    "## Lets look a little bit to stop words.\n",
    "\n",
    "import nltk\n",
    "from nltk.corpus import stopwords\n",
    "\n",
    "nltk.download('stopwords')\n",
    "stop=set(stopwords.words('english'))"
   ]
  },
  {
   "cell_type": "code",
   "execution_count": 63,
   "metadata": {},
   "outputs": [
    {
     "data": {
      "text/plain": [
       "<BarContainer object of 10 artists>"
      ]
     },
     "execution_count": 63,
     "metadata": {},
     "output_type": "execute_result"
    },
    {
     "data": {
      "image/png": "[encoded data removed]",
      "text/plain": [
       "<Figure size 432x288 with 1 Axes>"
      ]
     },
     "metadata": {
      "needs_background": "light"
     },
     "output_type": "display_data"
    }
   ],
   "source": [
    "corpus=[]\n",
    "new = covid_19['tweet'].str.split()\n",
    "new = new.values.tolist() \n",
    "corpus=[word for i in new for word in i] \n",
    "\n",
    "from collections import defaultdict\n",
    "dic = defaultdict(int)\n",
    "\n",
    "for word in corpus:\n",
    "    if word in stop:\n",
    "        dic[word]+=1 \n",
    "top= sorted(dic.items(), key=lambda x:x[1],reverse=True)[:10] \n",
    "\n",
    "x,y=zip(*top)\n",
    "\n",
    "mpb.bar(x,y)\n",
    "\n",
    "## We can see that the most commons stop word are \"the\", \"to\", and \"of\"."
   ]
  },
  {
   "cell_type": "code",
   "execution_count": 64,
   "metadata": {},
   "outputs": [
    {
     "data": {
      "text/plain": [
       "<AxesSubplot:>"
      ]
     },
     "execution_count": 64,
     "metadata": {},
     "output_type": "execute_result"
    },
    {
     "data": {
      "image/png": "[encoded data removed]",
      "text/plain": [
       "<Figure size 432x288 with 1 Axes>"
      ]
     },
     "metadata": {
      "needs_background": "light"
     },
     "output_type": "display_data"
    }
   ],
   "source": [
    "## Lets check the most common words.\n",
    "\n",
    "counter=Counter(corpus)\n",
    "most=counter.most_common()\n",
    "\n",
    "x, y= [], []\n",
    "for word,count in most[:40]:\n",
    "    if (word not in stop):\n",
    "        x.append(word)\n",
    "        y.append(count)\n",
    "        \n",
    "sns.barplot(x=y,y=x)\n",
    "\n",
    "## As expected, words related to disease and vaccines are the most common.  "
   ]
  },
  {
   "cell_type": "code",
   "execution_count": 67,
   "metadata": {},
   "outputs": [
    {
     "data": {
      "text/plain": [
       "array(['Netural', 'Positive', 'Negative'], dtype=object)"
      ]
     },
     "execution_count": 67,
     "metadata": {},
     "output_type": "execute_result"
    }
   ],
   "source": [
    "## Lets see more about this \"Emotion\" variable.\n",
    "\n",
    "covid_19['Emotion'].unique()\n",
    "\n",
    "## So it appears that the Emotion can be Neutral, Positve or Negative."
   ]
  },
  {
   "cell_type": "code",
   "execution_count": 75,
   "metadata": {},
   "outputs": [
    {
     "data": {
      "text/plain": [
       "Emotion\n",
       "Netural     68699\n",
       "Positive    16936\n",
       "Negative     6074\n",
       "dtype: int64"
      ]
     },
     "execution_count": 75,
     "metadata": {},
     "output_type": "execute_result"
    }
   ],
   "source": [
    "## Lets check which one of them appears the most. \n",
    "\n",
    "covid_19.groupby(\"Emotion\").size().sort_values(ascending=False)\n",
    "\n",
    "## It appears that most comments are neutral. "
   ]
  },
  {
   "cell_type": "code",
   "execution_count": 78,
   "metadata": {},
   "outputs": [
    {
     "data": {
      "text/plain": [
       "<AxesSubplot:xlabel='Emotion'>"
      ]
     },
     "execution_count": 78,
     "metadata": {},
     "output_type": "execute_result"
    },
    {
     "data": {
      "image/png": "[encoded data removed]",
      "text/plain": [
       "<Figure size 432x288 with 1 Axes>"
      ]
     },
     "metadata": {
      "needs_background": "light"
     },
     "output_type": "display_data"
    }
   ],
   "source": [
    "covid_19.groupby(\"Emotion\").size().sort_values(ascending=False).plot(kind=\"bar\")"
   ]
  },
  {
   "cell_type": "code",
   "execution_count": 86,
   "metadata": {},
   "outputs": [
    {
     "data": {
      "text/html": [
       "<div>\n",
       "<style scoped>\n",
       "    .dataframe tbody tr th:only-of-type {\n",
       "        vertical-align: middle;\n",
       "    }\n",
       "\n",
       "    .dataframe tbody tr th {\n",
       "        vertical-align: top;\n",
       "    }\n",
       "\n",
       "    .dataframe thead th {\n",
       "        text-align: right;\n",
       "    }\n",
       "</style>\n",
       "<table border=\"1\" class=\"dataframe\">\n",
       "  <thead>\n",
       "    <tr style=\"text-align: right;\">\n",
       "      <th></th>\n",
       "      <th>date</th>\n",
       "      <th>username</th>\n",
       "      <th>tweet</th>\n",
       "      <th>Emotion</th>\n",
       "      <th>mentions</th>\n",
       "      <th>replies_count</th>\n",
       "      <th>retweets_count</th>\n",
       "      <th>likes_count</th>\n",
       "      <th>link</th>\n",
       "      <th>reply_to</th>\n",
       "    </tr>\n",
       "  </thead>\n",
       "  <tbody>\n",
       "    <tr>\n",
       "      <th>7</th>\n",
       "      <td>2021/4/8 0:58</td>\n",
       "      <td>bugattisb4babyz</td>\n",
       "      <td>adult human females who use neopronouns are st...</td>\n",
       "      <td>Negative</td>\n",
       "      <td>[]</td>\n",
       "      <td>0</td>\n",
       "      <td>6</td>\n",
       "      <td>17</td>\n",
       "      <td>https://twitter.com/bugattisb4babyz/status/137...</td>\n",
       "      <td>[]</td>\n",
       "    </tr>\n",
       "    <tr>\n",
       "      <th>11</th>\n",
       "      <td>2021/4/8 0:58</td>\n",
       "      <td>thecollegian</td>\n",
       "      <td>Students express mixed reactions to the univer...</td>\n",
       "      <td>Negative</td>\n",
       "      <td>[]</td>\n",
       "      <td>1</td>\n",
       "      <td>2</td>\n",
       "      <td>5</td>\n",
       "      <td>https://twitter.com/TheCollegian/status/137994...</td>\n",
       "      <td>[]</td>\n",
       "    </tr>\n",
       "    <tr>\n",
       "      <th>63</th>\n",
       "      <td>2021/4/8 0:52</td>\n",
       "      <td>jmnualla</td>\n",
       "      <td>European drug regulators have confirmed a link...</td>\n",
       "      <td>Negative</td>\n",
       "      <td>[{'screen_name': 'cnnphilippines', 'name': 'cn...</td>\n",
       "      <td>0</td>\n",
       "      <td>0</td>\n",
       "      <td>0</td>\n",
       "      <td>https://twitter.com/jmnualla/status/1379945308...</td>\n",
       "      <td>[]</td>\n",
       "    </tr>\n",
       "    <tr>\n",
       "      <th>83</th>\n",
       "      <td>2021/4/8 0:49</td>\n",
       "      <td>pressnewsagency</td>\n",
       "      <td>AstraZeneca¡¯s COVID-19 vaccine is tied to unc...</td>\n",
       "      <td>Negative</td>\n",
       "      <td>[]</td>\n",
       "      <td>0</td>\n",
       "      <td>0</td>\n",
       "      <td>0</td>\n",
       "      <td>https://twitter.com/PressNewsAgency/status/137...</td>\n",
       "      <td>[]</td>\n",
       "    </tr>\n",
       "    <tr>\n",
       "      <th>100</th>\n",
       "      <td>2021/4/8 0:47</td>\n",
       "      <td>planck_epoch</td>\n",
       "      <td>AstraZeneca¡¯s COVID-19 vaccine is tied to unc...</td>\n",
       "      <td>Negative</td>\n",
       "      <td>[]</td>\n",
       "      <td>0</td>\n",
       "      <td>0</td>\n",
       "      <td>0</td>\n",
       "      <td>https://twitter.com/Planck_Epoch/status/137994...</td>\n",
       "      <td>[]</td>\n",
       "    </tr>\n",
       "  </tbody>\n",
       "</table>\n",
       "</div>"
      ],
      "text/plain": [
       "              date         username  \\\n",
       "7    2021/4/8 0:58  bugattisb4babyz   \n",
       "11   2021/4/8 0:58     thecollegian   \n",
       "63   2021/4/8 0:52         jmnualla   \n",
       "83   2021/4/8 0:49  pressnewsagency   \n",
       "100  2021/4/8 0:47     planck_epoch   \n",
       "\n",
       "                                                 tweet   Emotion  \\\n",
       "7    adult human females who use neopronouns are st...  Negative   \n",
       "11   Students express mixed reactions to the univer...  Negative   \n",
       "63   European drug regulators have confirmed a link...  Negative   \n",
       "83   AstraZeneca¡¯s COVID-19 vaccine is tied to unc...  Negative   \n",
       "100  AstraZeneca¡¯s COVID-19 vaccine is tied to unc...  Negative   \n",
       "\n",
       "                                              mentions  replies_count  \\\n",
       "7                                                   []              0   \n",
       "11                                                  []              1   \n",
       "63   [{'screen_name': 'cnnphilippines', 'name': 'cn...              0   \n",
       "83                                                  []              0   \n",
       "100                                                 []              0   \n",
       "\n",
       "     retweets_count  likes_count  \\\n",
       "7                 6           17   \n",
       "11                2            5   \n",
       "63                0            0   \n",
       "83                0            0   \n",
       "100               0            0   \n",
       "\n",
       "                                                  link reply_to  \n",
       "7    https://twitter.com/bugattisb4babyz/status/137...       []  \n",
       "11   https://twitter.com/TheCollegian/status/137994...       []  \n",
       "63   https://twitter.com/jmnualla/status/1379945308...       []  \n",
       "83   https://twitter.com/PressNewsAgency/status/137...       []  \n",
       "100  https://twitter.com/Planck_Epoch/status/137994...       []  "
      ]
     },
     "execution_count": 86,
     "metadata": {},
     "output_type": "execute_result"
    }
   ],
   "source": [
    "## Lets subset the negative tweets to see the most common words.\n",
    "\n",
    "Ngt = covid_19[covid_19.Emotion== \"Negative\"]\n",
    "Ngt.head()"
   ]
  },
  {
   "cell_type": "code",
   "execution_count": 90,
   "metadata": {},
   "outputs": [
    {
     "data": {
      "text/plain": [
       "<AxesSubplot:>"
      ]
     },
     "execution_count": 90,
     "metadata": {},
     "output_type": "execute_result"
    },
    {
     "data": {
      "image/png": "[encoded data removed]",
      "text/plain": [
       "<Figure size 432x288 with 1 Axes>"
      ]
     },
     "metadata": {
      "needs_background": "light"
     },
     "output_type": "display_data"
    }
   ],
   "source": [
    "## Lets check the most common words.\n",
    "\n",
    "corpus=[]\n",
    "new = Ngt['tweet'].str.split()\n",
    "new = new.values.tolist() \n",
    "corpus=[word for i in new for word in i] \n",
    "\n",
    "dic = defaultdict(int)\n",
    "\n",
    "for word in corpus:\n",
    "    if word in stop:\n",
    "        dic[word]+=1 \n",
    "top= sorted(dic.items(), key=lambda x:x[1],reverse=True)[:10] \n",
    "\n",
    "x,y=zip(*top)\n",
    "\n",
    "counter=Counter(corpus)\n",
    "most=counter.most_common()\n",
    "\n",
    "x, y= [], []\n",
    "for word,count in most[:40]:\n",
    "    if (word not in stop):\n",
    "        x.append(word)\n",
    "        y.append(count)\n",
    "        \n",
    "sns.barplot(x=y,y=x)\n",
    "\n",
    "\n",
    "## The most common words are similar to the whole dataset, which means the negative sentment is not well defined by specific words. "
   ]
  },
  {
   "cell_type": "code",
   "execution_count": 91,
   "metadata": {},
   "outputs": [
    {
     "data": {
      "text/plain": [
       "<AxesSubplot:>"
      ]
     },
     "execution_count": 91,
     "metadata": {},
     "output_type": "execute_result"
    },
    {
     "data": {
      "image/png": "[encoded data removed]",
      "text/plain": [
       "<Figure size 432x288 with 1 Axes>"
      ]
     },
     "metadata": {
      "needs_background": "light"
     },
     "output_type": "display_data"
    }
   ],
   "source": [
    "## Now for positive ones.\n",
    "\n",
    "Pst = covid_19[covid_19.Emotion== \"Positive\"]\n",
    "Pst.head()\n",
    "\n",
    "corpus=[]\n",
    "new = Pst['tweet'].str.split()\n",
    "new = new.values.tolist() \n",
    "corpus=[word for i in new for word in i] \n",
    "\n",
    "dic = defaultdict(int)\n",
    "\n",
    "for word in corpus:\n",
    "    if word in stop:\n",
    "        dic[word]+=1 \n",
    "top= sorted(dic.items(), key=lambda x:x[1],reverse=True)[:10] \n",
    "\n",
    "x,y=zip(*top)\n",
    "\n",
    "counter=Counter(corpus)\n",
    "most=counter.most_common()\n",
    "\n",
    "x, y= [], []\n",
    "for word,count in most[:40]:\n",
    "    if (word not in stop):\n",
    "        x.append(word)\n",
    "        y.append(count)\n",
    "        \n",
    "sns.barplot(x=y,y=x)\n"
   ]
  },
  {
   "cell_type": "code",
   "execution_count": 97,
   "metadata": {},
   "outputs": [],
   "source": [
    "## Sentiment analysis.\n",
    "\n",
    "def polarity(x):\n",
    "    return TextBlob(x).sentiment[0]"
   ]
  },
  {
   "cell_type": "code",
   "execution_count": 98,
   "metadata": {},
   "outputs": [
    {
     "data": {
      "text/plain": [
       "<AxesSubplot:>"
      ]
     },
     "execution_count": 98,
     "metadata": {},
     "output_type": "execute_result"
    },
    {
     "data": {
      "image/png": "[encoded data removed]",
      "text/plain": [
       "<Figure size 432x288 with 1 Axes>"
      ]
     },
     "metadata": {
      "needs_background": "light"
     },
     "output_type": "display_data"
    }
   ],
   "source": [
    "sentiments = covid_19['tweet'].apply(lambda x: polarity(x))\n",
    "sentiments.hist()"
   ]
  },
  {
   "cell_type": "code",
   "execution_count": 103,
   "metadata": {},
   "outputs": [
    {
     "data": {
      "text/plain": [
       "0.10035458859443382"
      ]
     },
     "execution_count": 103,
     "metadata": {},
     "output_type": "execute_result"
    }
   ],
   "source": [
    "sentiments.mean()"
   ]
  }
 ],
 "metadata": {
  "interpreter": {
   "hash": "26de051ba29f2982a8de78e945f0abaf191376122a1563185a90213a26c5da77"
  },
  "kernelspec": {
   "display_name": "Python 3.10.2 64-bit",
   "language": "python",
   "name": "python3"
  },
  "language_info": {
   "codemirror_mode": {
    "name": "ipython",
    "version": 3
   },
   "file_extension": ".py",
   "mimetype": "text/x-python",
   "name": "python",
   "nbconvert_exporter": "python",
   "pygments_lexer": "ipython3",
   "version": "3.10.2"
  },
  "orig_nbformat": 4
 },
 "nbformat": 4,
 "nbformat_minor": 2
}
